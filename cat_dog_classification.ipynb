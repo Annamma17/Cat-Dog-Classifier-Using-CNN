{
  "nbformat": 4,
  "nbformat_minor": 0,
  "metadata": {
    "colab": {
      "name": "cat_dog_classification.ipynb",
      "provenance": [],
      "collapsed_sections": []
    },
    "kernelspec": {
      "name": "python3",
      "display_name": "Python 3"
    },
    "language_info": {
      "name": "python"
    },
    "accelerator": "GPU"
  },
  "cells": [
    {
      "cell_type": "code",
      "metadata": {
        "id": "am2vZpsLwtTf"
      },
      "source": [
        "import pandas as pd\n",
        "import numpy as np\n",
        "import matplotlib as mpl\n",
        "import matplotlib.pyplot as plt\n",
        "import os"
      ],
      "execution_count": 3,
      "outputs": []
    },
    {
      "cell_type": "code",
      "metadata": {
        "id": "6q8jRMW1x9jD"
      },
      "source": [
        "import tensorflow as tf\n",
        "from tensorflow import keras"
      ],
      "execution_count": 4,
      "outputs": []
    },
    {
      "cell_type": "code",
      "metadata": {
        "colab": {
          "base_uri": "https://localhost:8080/"
        },
        "id": "HrNrFWuy_uNf",
        "outputId": "7a90caf3-a070-41f0-df90-1d747442ad69"
      },
      "source": [
        "from google.colab import drive\n",
        "drive.mount('/content/drive/')"
      ],
      "execution_count": 5,
      "outputs": [
        {
          "output_type": "stream",
          "text": [
            "Mounted at /content/drive/\n"
          ],
          "name": "stdout"
        }
      ]
    },
    {
      "cell_type": "code",
      "metadata": {
        "id": "lN6FRLCszIyY"
      },
      "source": [
        "train_dir= r'/content/drive/My Drive/Colab Notebooks/CAT-DOG CLASSIFICATION/set/train'\n",
        "test_dir= r'/content/drive/My Drive/Colab Notebooks/CAT-DOG CLASSIFICATION/set/test'\n",
        "valid_dir = r'/content/drive/My Drive/Colab Notebooks/CAT-DOG CLASSIFICATION/set/validation'\n"
      ],
      "execution_count": 6,
      "outputs": []
    },
    {
      "cell_type": "code",
      "metadata": {
        "id": "69FTGkNMz7a2"
      },
      "source": [
        "from tensorflow.keras.preprocessing.image import ImageDataGenerator"
      ],
      "execution_count": 7,
      "outputs": []
    },
    {
      "cell_type": "code",
      "metadata": {
        "id": "uDt-8gUg0w95",
        "colab": {
          "base_uri": "https://localhost:8080/"
        },
        "outputId": "365b79ee-4da1-4a0c-a876-1234911fd712"
      },
      "source": [
        "train_datagen=ImageDataGenerator(rescale=1/255)\n",
        "test_datagen=ImageDataGenerator(rescale=1/255)\n",
        "train_generator = train_datagen.flow_from_directory(\n",
        "    train_dir, \n",
        "    target_size=(150, 150), \n",
        "    batch_size=20,\n",
        "    class_mode='binary')\n",
        "valid_generator = test_datagen.flow_from_directory (\n",
        "    valid_dir,\n",
        "     target_size=(150, 150), \n",
        "     batch_size=20,\n",
        "     class_mode='binary')\n"
      ],
      "execution_count": 8,
      "outputs": [
        {
          "output_type": "stream",
          "text": [
            "Found 2000 images belonging to 2 classes.\n",
            "Found 1000 images belonging to 2 classes.\n"
          ],
          "name": "stdout"
        }
      ]
    },
    {
      "cell_type": "code",
      "metadata": {
        "id": "x1wQmTjK2h9n"
      },
      "source": [
        "from tensorflow.keras import layers\n",
        "from tensorflow.keras import models"
      ],
      "execution_count": 9,
      "outputs": []
    },
    {
      "cell_type": "code",
      "metadata": {
        "id": "azb8_IH6IRKf"
      },
      "source": [
        "model = models.Sequential()\n",
        "\n",
        "model.add(layers.Conv2D(32, (3, 3), activation='relu',\n",
        "                        input_shape=(150, 150, 3)))\n",
        "model.add(layers.MaxPooling2D((2, 2)))\n",
        "\n",
        "model.add(layers.Conv2D(64, (3, 3), activation='relu'))\n",
        "model.add(layers.MaxPooling2D((2, 2)))\n",
        "\n",
        "model.add(layers.Conv2D(128, (3, 3), activation='relu'))\n",
        "model.add(layers.MaxPooling2D((2, 2)))\n",
        "\n",
        "model.add(layers.Conv2D(128, (3, 3), activation='relu'))\n",
        "model.add(layers.MaxPooling2D((2, 2)))\n",
        "\n",
        "model.add(layers.Flatten())\n",
        "\n",
        "model.add(layers.Dense(512, activation='relu'))\n",
        "\n",
        "model.add(layers.Dense(1, activation='sigmoid'))"
      ],
      "execution_count": 10,
      "outputs": []
    },
    {
      "cell_type": "code",
      "metadata": {
        "colab": {
          "base_uri": "https://localhost:8080/"
        },
        "id": "7aNid-oeIUB5",
        "outputId": "00ab5393-ab09-43bf-a27f-5b04b729fd20"
      },
      "source": [
        "model.summary()"
      ],
      "execution_count": 11,
      "outputs": [
        {
          "output_type": "stream",
          "text": [
            "Model: \"sequential\"\n",
            "_________________________________________________________________\n",
            "Layer (type)                 Output Shape              Param #   \n",
            "=================================================================\n",
            "conv2d (Conv2D)              (None, 148, 148, 32)      896       \n",
            "_________________________________________________________________\n",
            "max_pooling2d (MaxPooling2D) (None, 74, 74, 32)        0         \n",
            "_________________________________________________________________\n",
            "conv2d_1 (Conv2D)            (None, 72, 72, 64)        18496     \n",
            "_________________________________________________________________\n",
            "max_pooling2d_1 (MaxPooling2 (None, 36, 36, 64)        0         \n",
            "_________________________________________________________________\n",
            "conv2d_2 (Conv2D)            (None, 34, 34, 128)       73856     \n",
            "_________________________________________________________________\n",
            "max_pooling2d_2 (MaxPooling2 (None, 17, 17, 128)       0         \n",
            "_________________________________________________________________\n",
            "conv2d_3 (Conv2D)            (None, 15, 15, 128)       147584    \n",
            "_________________________________________________________________\n",
            "max_pooling2d_3 (MaxPooling2 (None, 7, 7, 128)         0         \n",
            "_________________________________________________________________\n",
            "flatten (Flatten)            (None, 6272)              0         \n",
            "_________________________________________________________________\n",
            "dense (Dense)                (None, 512)               3211776   \n",
            "_________________________________________________________________\n",
            "dense_1 (Dense)              (None, 1)                 513       \n",
            "=================================================================\n",
            "Total params: 3,453,121\n",
            "Trainable params: 3,453,121\n",
            "Non-trainable params: 0\n",
            "_________________________________________________________________\n"
          ],
          "name": "stdout"
        }
      ]
    },
    {
      "cell_type": "code",
      "metadata": {
        "colab": {
          "base_uri": "https://localhost:8080/"
        },
        "id": "VrttuHDoIXC5",
        "outputId": "0edd57f8-b90b-4a95-f302-0f4c5ca9a491"
      },
      "source": [
        "from tensorflow.keras import optimizers\n",
        "\n",
        "model.compile(loss='binary_crossentropy',\n",
        "              optimizer=optimizers.RMSprop(lr=1e-4),\n",
        "              metrics=['acc'])"
      ],
      "execution_count": 12,
      "outputs": [
        {
          "output_type": "stream",
          "text": [
            "/usr/local/lib/python3.7/dist-packages/tensorflow/python/keras/optimizer_v2/optimizer_v2.py:375: UserWarning: The `lr` argument is deprecated, use `learning_rate` instead.\n",
            "  \"The `lr` argument is deprecated, use `learning_rate` instead.\")\n"
          ],
          "name": "stderr"
        }
      ]
    },
    {
      "cell_type": "code",
      "metadata": {
        "colab": {
          "base_uri": "https://localhost:8080/"
        },
        "id": "SDUqspZjMAKb",
        "outputId": "7113e65a-3878-4e3b-f389-7346443bf4a0"
      },
      "source": [
        "%tensorflow_version 2.x\n",
        "import tensorflow as tf\n",
        "device_name = tf.test.gpu_device_name()\n",
        "if device_name != '/device:GPU:0':\n",
        "  raise SystemError('GPU device not found')\n",
        "print('Found GPU at: {}'.format(device_name))"
      ],
      "execution_count": 1,
      "outputs": [
        {
          "output_type": "stream",
          "text": [
            "Found GPU at: /device:GPU:0\n"
          ],
          "name": "stdout"
        }
      ]
    },
    {
      "cell_type": "code",
      "metadata": {
        "colab": {
          "base_uri": "https://localhost:8080/"
        },
        "id": "ae35263uIaXS",
        "outputId": "02cb9f17-1a34-4f2b-9b02-9c73fd14327a"
      },
      "source": [
        "history = model.fit_generator(\n",
        "      train_generator,\n",
        "      steps_per_epoch=100,\n",
        "      epochs=20,\n",
        "      validation_data=valid_generator,\n",
        "      validation_steps=50)"
      ],
      "execution_count": 13,
      "outputs": [
        {
          "output_type": "stream",
          "text": [
            "/usr/local/lib/python3.7/dist-packages/tensorflow/python/keras/engine/training.py:1940: UserWarning: `Model.fit_generator` is deprecated and will be removed in a future version. Please use `Model.fit`, which supports generators.\n",
            "  warnings.warn('`Model.fit_generator` is deprecated and '\n"
          ],
          "name": "stderr"
        },
        {
          "output_type": "stream",
          "text": [
            "Epoch 1/20\n",
            "100/100 [==============================] - 781s 8s/step - loss: 0.6860 - acc: 0.5560 - val_loss: 0.6810 - val_acc: 0.5490\n",
            "Epoch 2/20\n",
            "100/100 [==============================] - 12s 121ms/step - loss: 0.6468 - acc: 0.6205 - val_loss: 0.6360 - val_acc: 0.6150\n",
            "Epoch 3/20\n",
            "100/100 [==============================] - 12s 122ms/step - loss: 0.5953 - acc: 0.6825 - val_loss: 0.6372 - val_acc: 0.6480\n",
            "Epoch 4/20\n",
            "100/100 [==============================] - 12s 117ms/step - loss: 0.5618 - acc: 0.7155 - val_loss: 0.5979 - val_acc: 0.6710\n",
            "Epoch 5/20\n",
            "100/100 [==============================] - 12s 122ms/step - loss: 0.5339 - acc: 0.7285 - val_loss: 0.6374 - val_acc: 0.6580\n",
            "Epoch 6/20\n",
            "100/100 [==============================] - 12s 120ms/step - loss: 0.5169 - acc: 0.7465 - val_loss: 0.6266 - val_acc: 0.6700\n",
            "Epoch 7/20\n",
            "100/100 [==============================] - 11s 113ms/step - loss: 0.4818 - acc: 0.7700 - val_loss: 0.6882 - val_acc: 0.6380\n",
            "Epoch 8/20\n",
            "100/100 [==============================] - 11s 112ms/step - loss: 0.4777 - acc: 0.7705 - val_loss: 0.5679 - val_acc: 0.7000\n",
            "Epoch 9/20\n",
            "100/100 [==============================] - 11s 112ms/step - loss: 0.4476 - acc: 0.7845 - val_loss: 0.6131 - val_acc: 0.6930\n",
            "Epoch 10/20\n",
            "100/100 [==============================] - 12s 117ms/step - loss: 0.4278 - acc: 0.8015 - val_loss: 0.5515 - val_acc: 0.7260\n",
            "Epoch 11/20\n",
            "100/100 [==============================] - 12s 121ms/step - loss: 0.3989 - acc: 0.8220 - val_loss: 0.5929 - val_acc: 0.7020\n",
            "Epoch 12/20\n",
            "100/100 [==============================] - 12s 120ms/step - loss: 0.3774 - acc: 0.8245 - val_loss: 0.5724 - val_acc: 0.7210\n",
            "Epoch 13/20\n",
            "100/100 [==============================] - 11s 113ms/step - loss: 0.3520 - acc: 0.8465 - val_loss: 0.6830 - val_acc: 0.6790\n",
            "Epoch 14/20\n",
            "100/100 [==============================] - 11s 113ms/step - loss: 0.3405 - acc: 0.8520 - val_loss: 0.5579 - val_acc: 0.7310\n",
            "Epoch 15/20\n",
            "100/100 [==============================] - 11s 113ms/step - loss: 0.3118 - acc: 0.8780 - val_loss: 0.5899 - val_acc: 0.7260\n",
            "Epoch 16/20\n",
            "100/100 [==============================] - 12s 119ms/step - loss: 0.2965 - acc: 0.8815 - val_loss: 0.6035 - val_acc: 0.7250\n",
            "Epoch 17/20\n",
            "100/100 [==============================] - 12s 120ms/step - loss: 0.2709 - acc: 0.8885 - val_loss: 0.6441 - val_acc: 0.7200\n",
            "Epoch 18/20\n",
            "100/100 [==============================] - 11s 113ms/step - loss: 0.2490 - acc: 0.9065 - val_loss: 0.5859 - val_acc: 0.7360\n",
            "Epoch 19/20\n",
            "100/100 [==============================] - 11s 113ms/step - loss: 0.2394 - acc: 0.9095 - val_loss: 0.6245 - val_acc: 0.7260\n",
            "Epoch 20/20\n",
            "100/100 [==============================] - 11s 113ms/step - loss: 0.2195 - acc: 0.9180 - val_loss: 0.5944 - val_acc: 0.7450\n"
          ],
          "name": "stdout"
        }
      ]
    },
    {
      "cell_type": "code",
      "metadata": {
        "colab": {
          "base_uri": "https://localhost:8080/",
          "height": 324
        },
        "id": "w11Nbw0uIdTq",
        "outputId": "bb9c87f8-941d-4785-9357-fff92ab4f5d8"
      },
      "source": [
        "pd.DataFrame(history.history).plot(figsize=(8, 5))\n",
        "plt.grid(True)\n",
        "plt.gca().set_ylim(0, 1)\n",
        "plt.show()"
      ],
      "execution_count": 14,
      "outputs": [
        {
          "output_type": "display_data",
          "data": {
            "image/png": "[encoded data removed]",
            "text/plain": [
              "<Figure size 576x360 with 1 Axes>"
            ]
          },
          "metadata": {
            "tags": [],
            "needs_background": "light"
          }
        }
      ]
    },
    {
      "cell_type": "code",
      "metadata": {
        "id": "qPSTL3O1Q0VB"
      },
      "source": [
        "model.save(\"model.h5\")"
      ],
      "execution_count": 15,
      "outputs": []
    },
    {
      "cell_type": "code",
      "metadata": {
        "id": "SD3lqzQsRFgv"
      },
      "source": [
        "from tensorflow.keras import backend as K \n",
        "\n",
        "K.clear_session()\n",
        "del model"
      ],
      "execution_count": 16,
      "outputs": []
    },
    {
      "cell_type": "code",
      "metadata": {
        "colab": {
          "base_uri": "https://localhost:8080/"
        },
        "id": "5bZ62ZoTRJqB",
        "outputId": "b4ff7db7-64cc-4af8-a25b-c03287e987a5"
      },
      "source": [
        "train_datagen = ImageDataGenerator(\n",
        "    rescale=1./255,\n",
        "    rotation_range=40,\n",
        "    width_shift_range=0.2,\n",
        "    height_shift_range=0.2,\n",
        "    shear_range=0.2,\n",
        "    zoom_range=0.2,\n",
        "    horizontal_flip=True,)\n",
        "\n",
        "test_datagen = ImageDataGenerator(rescale=1./255)\n",
        "\n",
        "train_generator = train_datagen.flow_from_directory(\n",
        "        train_dir,\n",
        "        target_size=(150, 150),\n",
        "        batch_size=32,\n",
        "        class_mode='binary')\n",
        "\n",
        "validation_generator = test_datagen.flow_from_directory(\n",
        "        valid_dir,\n",
        "        target_size=(150, 150),\n",
        "        batch_size=32,\n",
        "        class_mode='binary')"
      ],
      "execution_count": 18,
      "outputs": [
        {
          "output_type": "stream",
          "text": [
            "Found 2000 images belonging to 2 classes.\n",
            "Found 1000 images belonging to 2 classes.\n"
          ],
          "name": "stdout"
        }
      ]
    },
    {
      "cell_type": "code",
      "metadata": {
        "colab": {
          "base_uri": "https://localhost:8080/"
        },
        "id": "bxtKD627RPXV",
        "outputId": "d86f3f16-0dcd-42d8-c9cf-179f02da6bfe"
      },
      "source": [
        "model = models.Sequential()\n",
        "model.add(layers.Conv2D(32, (3, 3), activation='relu',\n",
        "                        input_shape=(150, 150, 3)))\n",
        "model.add(layers.MaxPooling2D((2, 2)))\n",
        "model.add(layers.Conv2D(64, (3, 3), activation='relu'))\n",
        "model.add(layers.MaxPooling2D((2, 2)))\n",
        "model.add(layers.Conv2D(128, (3, 3), activation='relu'))\n",
        "model.add(layers.MaxPooling2D((2, 2)))\n",
        "model.add(layers.Conv2D(128, (3, 3), activation='relu'))\n",
        "model.add(layers.MaxPooling2D((2, 2)))\n",
        "model.add(layers.Flatten())\n",
        "model.add(layers.Dropout(0.5))\n",
        "model.add(layers.Dense(512, activation='relu'))\n",
        "model.add(layers.Dense(1, activation='sigmoid'))\n",
        "\n",
        "model.compile(loss='binary_crossentropy',\n",
        "              optimizer=optimizers.RMSprop(lr=1e-4),\n",
        "              metrics=['acc'])"
      ],
      "execution_count": 19,
      "outputs": [
        {
          "output_type": "stream",
          "text": [
            "/usr/local/lib/python3.7/dist-packages/tensorflow/python/keras/optimizer_v2/optimizer_v2.py:375: UserWarning: The `lr` argument is deprecated, use `learning_rate` instead.\n",
            "  \"The `lr` argument is deprecated, use `learning_rate` instead.\")\n"
          ],
          "name": "stderr"
        }
      ]
    },
    {
      "cell_type": "code",
      "metadata": {
        "colab": {
          "base_uri": "https://localhost:8080/"
        },
        "id": "vvpqOdk6RWMb",
        "outputId": "f917297e-8c3f-48f1-cbcc-070675377bff"
      },
      "source": [
        "history = model.fit_generator(\n",
        "      train_generator,\n",
        "      steps_per_epoch=100,\n",
        "      epochs=100,\n",
        "      validation_data=validation_generator,\n",
        "      validation_steps=50)"
      ],
      "execution_count": 21,
      "outputs": [
        {
          "output_type": "stream",
          "text": [
            "/usr/local/lib/python3.7/dist-packages/tensorflow/python/keras/engine/training.py:1940: UserWarning: `Model.fit_generator` is deprecated and will be removed in a future version. Please use `Model.fit`, which supports generators.\n",
            "  warnings.warn('`Model.fit_generator` is deprecated and '\n"
          ],
          "name": "stderr"
        },
        {
          "output_type": "stream",
          "text": [
            "Epoch 1/100\n",
            " 63/100 [=================>............] - ETA: 9s - loss: 0.6853 - acc: 0.5510 WARNING:tensorflow:Your input ran out of data; interrupting training. Make sure that your dataset or generator can generate at least `steps_per_epoch * epochs` batches (in this case, 10000 batches). You may need to use the repeat() function when building your dataset.\n",
            "WARNING:tensorflow:Your input ran out of data; interrupting training. Make sure that your dataset or generator can generate at least `steps_per_epoch * epochs` batches (in this case, 50 batches). You may need to use the repeat() function when building your dataset.\n",
            "100/100 [==============================] - 22s 221ms/step - loss: 0.6853 - acc: 0.5510 - val_loss: 0.6724 - val_acc: 0.5610\n"
          ],
          "name": "stdout"
        }
      ]
    },
    {
      "cell_type": "code",
      "metadata": {
        "id": "ABiAt3uXRZE5"
      },
      "source": [
        "model.save(\"project_cnn.h5\")"
      ],
      "execution_count": 22,
      "outputs": []
    },
    {
      "cell_type": "code",
      "metadata": {
        "colab": {
          "base_uri": "https://localhost:8080/",
          "height": 324
        },
        "id": "nOXo1_rRSEPa",
        "outputId": "4144bd6b-83d3-45ec-a25d-4ea7ace6120d"
      },
      "source": [
        "pd.DataFrame(history.history).plot(figsize=(8, 5))\n",
        "plt.grid(True)\n",
        "plt.gca().set_ylim(0, 1)\n",
        "plt.show()"
      ],
      "execution_count": 23,
      "outputs": [
        {
          "output_type": "display_data",
          "data": {
            "image/png": "[encoded data removed]",
            "text/plain": [
              "<Figure size 576x360 with 1 Axes>"
            ]
          },
          "metadata": {
            "tags": [],
            "needs_background": "light"
          }
        }
      ]
    },
    {
      "cell_type": "code",
      "metadata": {
        "colab": {
          "base_uri": "https://localhost:8080/"
        },
        "id": "Ad0AsQ28SGz4",
        "outputId": "0ee62ae4-6f3a-4fcf-b731-8ccf423a44d5"
      },
      "source": [
        "from tensorflow.keras.preprocessing.image import ImageDataGenerator\n",
        "\n",
        "train_datagen = ImageDataGenerator(\n",
        "      rescale=1./255,\n",
        "      rotation_range=40,\n",
        "      width_shift_range=0.2,\n",
        "      height_shift_range=0.2,\n",
        "      shear_range=0.2,\n",
        "      zoom_range=0.2,\n",
        "      horizontal_flip=True)\n",
        "\n",
        "test_datagen = ImageDataGenerator(rescale=1./255)\n",
        "\n",
        "train_generator = train_datagen.flow_from_directory(\n",
        "        train_dir,\n",
        "        target_size=(150, 150),\n",
        "        batch_size=20,\n",
        "        class_mode='binary')\n",
        "\n",
        "validation_generator = test_datagen.flow_from_directory(\n",
        "        valid_dir,\n",
        "        target_size=(150, 150),\n",
        "        batch_size=20,\n",
        "        class_mode='binary')"
      ],
      "execution_count": 24,
      "outputs": [
        {
          "output_type": "stream",
          "text": [
            "Found 2000 images belonging to 2 classes.\n",
            "Found 1000 images belonging to 2 classes.\n"
          ],
          "name": "stdout"
        }
      ]
    },
    {
      "cell_type": "code",
      "metadata": {
        "colab": {
          "base_uri": "https://localhost:8080/"
        },
        "id": "f99v2NI6Sf8v",
        "outputId": "93fef075-7635-4e3c-e790-5ee594a7fcc8"
      },
      "source": [
        "from tensorflow.keras.applications import VGG16\n",
        "\n",
        "conv_base = VGG16(weights='imagenet',\n",
        "                  include_top=False,\n",
        "                  input_shape=(150, 150, 3))"
      ],
      "execution_count": 25,
      "outputs": [
        {
          "output_type": "stream",
          "text": [
            "Downloading data from https://storage.googleapis.com/tensorflow/keras-applications/vgg16/vgg16_weights_tf_dim_ordering_tf_kernels_notop.h5\n",
            "58892288/58889256 [==============================] - 0s 0us/step\n"
          ],
          "name": "stdout"
        }
      ]
    },
    {
      "cell_type": "code",
      "metadata": {
        "colab": {
          "base_uri": "https://localhost:8080/"
        },
        "id": "kSt5zJl3SlX2",
        "outputId": "150d42e0-b0c9-4351-8570-d77e1ecefed7"
      },
      "source": [
        "conv_base.summary()"
      ],
      "execution_count": 26,
      "outputs": [
        {
          "output_type": "stream",
          "text": [
            "Model: \"vgg16\"\n",
            "_________________________________________________________________\n",
            "Layer (type)                 Output Shape              Param #   \n",
            "=================================================================\n",
            "input_1 (InputLayer)         [(None, 150, 150, 3)]     0         \n",
            "_________________________________________________________________\n",
            "block1_conv1 (Conv2D)        (None, 150, 150, 64)      1792      \n",
            "_________________________________________________________________\n",
            "block1_conv2 (Conv2D)        (None, 150, 150, 64)      36928     \n",
            "_________________________________________________________________\n",
            "block1_pool (MaxPooling2D)   (None, 75, 75, 64)        0         \n",
            "_________________________________________________________________\n",
            "block2_conv1 (Conv2D)        (None, 75, 75, 128)       73856     \n",
            "_________________________________________________________________\n",
            "block2_conv2 (Conv2D)        (None, 75, 75, 128)       147584    \n",
            "_________________________________________________________________\n",
            "block2_pool (MaxPooling2D)   (None, 37, 37, 128)       0         \n",
            "_________________________________________________________________\n",
            "block3_conv1 (Conv2D)        (None, 37, 37, 256)       295168    \n",
            "_________________________________________________________________\n",
            "block3_conv2 (Conv2D)        (None, 37, 37, 256)       590080    \n",
            "_________________________________________________________________\n",
            "block3_conv3 (Conv2D)        (None, 37, 37, 256)       590080    \n",
            "_________________________________________________________________\n",
            "block3_pool (MaxPooling2D)   (None, 18, 18, 256)       0         \n",
            "_________________________________________________________________\n",
            "block4_conv1 (Conv2D)        (None, 18, 18, 512)       1180160   \n",
            "_________________________________________________________________\n",
            "block4_conv2 (Conv2D)        (None, 18, 18, 512)       2359808   \n",
            "_________________________________________________________________\n",
            "block4_conv3 (Conv2D)        (None, 18, 18, 512)       2359808   \n",
            "_________________________________________________________________\n",
            "block4_pool (MaxPooling2D)   (None, 9, 9, 512)         0         \n",
            "_________________________________________________________________\n",
            "block5_conv1 (Conv2D)        (None, 9, 9, 512)         2359808   \n",
            "_________________________________________________________________\n",
            "block5_conv2 (Conv2D)        (None, 9, 9, 512)         2359808   \n",
            "_________________________________________________________________\n",
            "block5_conv3 (Conv2D)        (None, 9, 9, 512)         2359808   \n",
            "_________________________________________________________________\n",
            "block5_pool (MaxPooling2D)   (None, 4, 4, 512)         0         \n",
            "=================================================================\n",
            "Total params: 14,714,688\n",
            "Trainable params: 14,714,688\n",
            "Non-trainable params: 0\n",
            "_________________________________________________________________\n"
          ],
          "name": "stdout"
        }
      ]
    },
    {
      "cell_type": "code",
      "metadata": {
        "id": "T1wSQbHUSpVn"
      },
      "source": [
        "from tensorflow.keras import models\n",
        "from tensorflow.keras import layers\n",
        "\n",
        "model = models.Sequential()\n",
        "model.add(conv_base)\n",
        "model.add(layers.Flatten())\n",
        "model.add(layers.Dense(256, activation='relu'))\n",
        "model.add(layers.Dense(1, activation='sigmoid'))"
      ],
      "execution_count": 27,
      "outputs": []
    },
    {
      "cell_type": "code",
      "metadata": {
        "colab": {
          "base_uri": "https://localhost:8080/"
        },
        "id": "uZj2hIowStvV",
        "outputId": "e6dafa6c-c96b-4063-ab27-75c58eabe3b5"
      },
      "source": [
        "model.summary()"
      ],
      "execution_count": 28,
      "outputs": [
        {
          "output_type": "stream",
          "text": [
            "Model: \"sequential_1\"\n",
            "_________________________________________________________________\n",
            "Layer (type)                 Output Shape              Param #   \n",
            "=================================================================\n",
            "vgg16 (Functional)           (None, 4, 4, 512)         14714688  \n",
            "_________________________________________________________________\n",
            "flatten_1 (Flatten)          (None, 8192)              0         \n",
            "_________________________________________________________________\n",
            "dense_2 (Dense)              (None, 256)               2097408   \n",
            "_________________________________________________________________\n",
            "dense_3 (Dense)              (None, 1)                 257       \n",
            "=================================================================\n",
            "Total params: 16,812,353\n",
            "Trainable params: 16,812,353\n",
            "Non-trainable params: 0\n",
            "_________________________________________________________________\n"
          ],
          "name": "stdout"
        }
      ]
    },
    {
      "cell_type": "code",
      "metadata": {
        "colab": {
          "base_uri": "https://localhost:8080/"
        },
        "id": "HDK8fSaZSyEB",
        "outputId": "e743e7d4-e1c8-42d2-f5a9-5dc0248ec08a"
      },
      "source": [
        "from tensorflow.keras import optimizers\n",
        "\n",
        "model.compile(loss='binary_crossentropy',\n",
        "              optimizer=optimizers.RMSprop(lr=2e-5),\n",
        "              metrics=['acc'])"
      ],
      "execution_count": 29,
      "outputs": [
        {
          "output_type": "stream",
          "text": [
            "/usr/local/lib/python3.7/dist-packages/tensorflow/python/keras/optimizer_v2/optimizer_v2.py:375: UserWarning: The `lr` argument is deprecated, use `learning_rate` instead.\n",
            "  \"The `lr` argument is deprecated, use `learning_rate` instead.\")\n"
          ],
          "name": "stderr"
        }
      ]
    },
    {
      "cell_type": "code",
      "metadata": {
        "id": "TjpyfDW_S4gl"
      },
      "source": [
        "checkpoint_cb = keras.callbacks.ModelCheckpoint(\"CNN_Project_Model-{epoch:02d}.h5\")"
      ],
      "execution_count": 30,
      "outputs": []
    },
    {
      "cell_type": "code",
      "metadata": {
        "colab": {
          "base_uri": "https://localhost:8080/"
        },
        "id": "LHJMO2CkS8xX",
        "outputId": "3280ab4e-e88a-44be-acdc-c13297b2c0c5"
      },
      "source": [
        "history = model.fit_generator(\n",
        "      train_generator,\n",
        "      steps_per_epoch=100,\n",
        "      epochs=30,\n",
        "      validation_data=validation_generator,\n",
        "      validation_steps=50,\n",
        "      callbacks=[checkpoint_cb])"
      ],
      "execution_count": 31,
      "outputs": [
        {
          "output_type": "stream",
          "text": [
            "/usr/local/lib/python3.7/dist-packages/tensorflow/python/keras/engine/training.py:1940: UserWarning: `Model.fit_generator` is deprecated and will be removed in a future version. Please use `Model.fit`, which supports generators.\n",
            "  warnings.warn('`Model.fit_generator` is deprecated and '\n"
          ],
          "name": "stderr"
        },
        {
          "output_type": "stream",
          "text": [
            "Epoch 1/30\n",
            "100/100 [==============================] - 32s 263ms/step - loss: 0.4206 - acc: 0.8045 - val_loss: 0.3539 - val_acc: 0.8500\n",
            "Epoch 2/30\n",
            "100/100 [==============================] - 25s 253ms/step - loss: 0.2642 - acc: 0.8840 - val_loss: 0.1700 - val_acc: 0.9280\n",
            "Epoch 3/30\n",
            "100/100 [==============================] - 27s 267ms/step - loss: 0.1901 - acc: 0.9185 - val_loss: 0.0942 - val_acc: 0.9620\n",
            "Epoch 4/30\n",
            "100/100 [==============================] - 27s 266ms/step - loss: 0.1696 - acc: 0.9300 - val_loss: 0.2971 - val_acc: 0.8890\n",
            "Epoch 5/30\n",
            "100/100 [==============================] - 25s 250ms/step - loss: 0.1440 - acc: 0.9440 - val_loss: 0.1016 - val_acc: 0.9570\n",
            "Epoch 6/30\n",
            "100/100 [==============================] - 26s 259ms/step - loss: 0.1413 - acc: 0.9460 - val_loss: 0.1438 - val_acc: 0.9430\n",
            "Epoch 7/30\n",
            "100/100 [==============================] - 26s 258ms/step - loss: 0.1319 - acc: 0.9495 - val_loss: 0.0833 - val_acc: 0.9640\n",
            "Epoch 8/30\n",
            "100/100 [==============================] - 26s 257ms/step - loss: 0.0963 - acc: 0.9630 - val_loss: 0.1420 - val_acc: 0.9510\n",
            "Epoch 9/30\n",
            "100/100 [==============================] - 26s 260ms/step - loss: 0.0999 - acc: 0.9600 - val_loss: 0.1539 - val_acc: 0.9360\n",
            "Epoch 10/30\n",
            "100/100 [==============================] - 26s 258ms/step - loss: 0.0840 - acc: 0.9690 - val_loss: 0.1890 - val_acc: 0.9340\n",
            "Epoch 11/30\n",
            "100/100 [==============================] - 26s 260ms/step - loss: 0.0801 - acc: 0.9695 - val_loss: 0.0687 - val_acc: 0.9700\n",
            "Epoch 12/30\n",
            "100/100 [==============================] - 25s 253ms/step - loss: 0.0633 - acc: 0.9780 - val_loss: 0.1240 - val_acc: 0.9620\n",
            "Epoch 13/30\n",
            "100/100 [==============================] - 27s 273ms/step - loss: 0.0876 - acc: 0.9685 - val_loss: 0.1519 - val_acc: 0.9540\n",
            "Epoch 14/30\n",
            "100/100 [==============================] - 27s 274ms/step - loss: 0.0605 - acc: 0.9810 - val_loss: 0.0979 - val_acc: 0.9720\n",
            "Epoch 15/30\n",
            "100/100 [==============================] - 25s 252ms/step - loss: 0.0682 - acc: 0.9775 - val_loss: 0.2163 - val_acc: 0.9490\n",
            "Epoch 16/30\n",
            "100/100 [==============================] - 26s 259ms/step - loss: 0.0518 - acc: 0.9790 - val_loss: 0.0983 - val_acc: 0.9650\n",
            "Epoch 17/30\n",
            "100/100 [==============================] - 26s 261ms/step - loss: 0.0523 - acc: 0.9805 - val_loss: 0.1130 - val_acc: 0.9690\n",
            "Epoch 18/30\n",
            "100/100 [==============================] - 26s 258ms/step - loss: 0.0597 - acc: 0.9815 - val_loss: 0.1004 - val_acc: 0.9630\n",
            "Epoch 19/30\n",
            "100/100 [==============================] - 25s 251ms/step - loss: 0.0474 - acc: 0.9825 - val_loss: 0.0971 - val_acc: 0.9740\n",
            "Epoch 20/30\n",
            "100/100 [==============================] - 27s 268ms/step - loss: 0.0438 - acc: 0.9875 - val_loss: 0.1159 - val_acc: 0.9720\n",
            "Epoch 21/30\n",
            "100/100 [==============================] - 25s 252ms/step - loss: 0.0548 - acc: 0.9820 - val_loss: 0.0862 - val_acc: 0.9760\n",
            "Epoch 22/30\n",
            "100/100 [==============================] - 27s 265ms/step - loss: 0.0467 - acc: 0.9825 - val_loss: 0.0853 - val_acc: 0.9810\n",
            "Epoch 23/30\n",
            "100/100 [==============================] - 26s 261ms/step - loss: 0.0422 - acc: 0.9800 - val_loss: 0.1131 - val_acc: 0.9710\n",
            "Epoch 24/30\n",
            "100/100 [==============================] - 25s 253ms/step - loss: 0.0328 - acc: 0.9915 - val_loss: 0.1380 - val_acc: 0.9720\n",
            "Epoch 25/30\n",
            "100/100 [==============================] - 26s 261ms/step - loss: 0.0424 - acc: 0.9840 - val_loss: 0.1092 - val_acc: 0.9750\n",
            "Epoch 26/30\n",
            "100/100 [==============================] - 26s 255ms/step - loss: 0.0363 - acc: 0.9910 - val_loss: 0.1081 - val_acc: 0.9740\n",
            "Epoch 27/30\n",
            "100/100 [==============================] - 27s 271ms/step - loss: 0.0492 - acc: 0.9860 - val_loss: 0.1786 - val_acc: 0.9600\n",
            "Epoch 28/30\n",
            "100/100 [==============================] - 26s 263ms/step - loss: 0.0388 - acc: 0.9880 - val_loss: 0.1072 - val_acc: 0.9690\n",
            "Epoch 29/30\n",
            "100/100 [==============================] - 27s 271ms/step - loss: 0.0291 - acc: 0.9875 - val_loss: 0.1212 - val_acc: 0.9710\n",
            "Epoch 30/30\n",
            "100/100 [==============================] - 25s 253ms/step - loss: 0.0462 - acc: 0.9855 - val_loss: 0.1556 - val_acc: 0.9480\n"
          ],
          "name": "stdout"
        }
      ]
    },
    {
      "cell_type": "code",
      "metadata": {
        "colab": {
          "base_uri": "https://localhost:8080/",
          "height": 324
        },
        "id": "iOHo4jOnTApl",
        "outputId": "9d011b21-165f-42fb-f7db-9fb2ad130fe7"
      },
      "source": [
        "pd.DataFrame(history.history).plot(figsize=(8, 5))\n",
        "plt.grid(True)\n",
        "plt.gca().set_ylim(0, 1)\n",
        "plt.show()"
      ],
      "execution_count": 32,
      "outputs": [
        {
          "output_type": "display_data",
          "data": {
            "image/png": "[encoded data removed]",
            "text/plain": [
              "<Figure size 576x360 with 1 Axes>"
            ]
          },
          "metadata": {
            "tags": [],
            "needs_background": "light"
          }
        }
      ]
    },
    {
      "cell_type": "code",
      "metadata": {
        "id": "SQZREvpQW_fJ"
      },
      "source": [
        "hist_df = pd.DataFrame(history.history) "
      ],
      "execution_count": 33,
      "outputs": []
    },
    {
      "cell_type": "code",
      "metadata": {
        "id": "OkNuvUulXGVJ"
      },
      "source": [
        "hist_csv_file = 'history.csv'\n",
        "with open(hist_csv_file, mode='w') as f:\n",
        "    hist_df.to_csv(f)"
      ],
      "execution_count": 34,
      "outputs": []
    },
    {
      "cell_type": "code",
      "metadata": {
        "colab": {
          "base_uri": "https://localhost:8080/"
        },
        "id": "fidh8lzMXI7O",
        "outputId": "970b6109-9b63-4f4c-cf5a-ae18cd11c7c8"
      },
      "source": [
        "test_generator = test_datagen.flow_from_directory(\n",
        "        test_dir,\n",
        "        target_size=(150, 150),\n",
        "        batch_size=20,\n",
        "        class_mode='binary')"
      ],
      "execution_count": 35,
      "outputs": [
        {
          "output_type": "stream",
          "text": [
            "Found 1000 images belonging to 2 classes.\n"
          ],
          "name": "stdout"
        }
      ]
    },
    {
      "cell_type": "code",
      "metadata": {
        "colab": {
          "base_uri": "https://localhost:8080/"
        },
        "id": "MiAWuIldXLlE",
        "outputId": "cadcb1df-c2a0-4856-9e8f-cfaba6a60bb6"
      },
      "source": [
        "model.evaluate_generator(test_generator, steps=50)"
      ],
      "execution_count": 36,
      "outputs": [
        {
          "output_type": "stream",
          "text": [
            "/usr/local/lib/python3.7/dist-packages/tensorflow/python/keras/engine/training.py:1973: UserWarning: `Model.evaluate_generator` is deprecated and will be removed in a future version. Please use `Model.evaluate`, which supports generators.\n",
            "  warnings.warn('`Model.evaluate_generator` is deprecated and '\n"
          ],
          "name": "stderr"
        },
        {
          "output_type": "execute_result",
          "data": {
            "text/plain": [
              "[0.18898019194602966, 0.9480000138282776]"
            ]
          },
          "metadata": {
            "tags": []
          },
          "execution_count": 36
        }
      ]
    },
    {
      "cell_type": "code",
      "metadata": {
        "id": "JJCaMDJYXO4G"
      },
      "source": [
        ""
      ],
      "execution_count": null,
      "outputs": []
    }
  ]
}